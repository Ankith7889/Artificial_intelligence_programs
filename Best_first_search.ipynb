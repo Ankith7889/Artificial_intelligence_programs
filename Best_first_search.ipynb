{
  "nbformat": 4,
  "nbformat_minor": 0,
  "metadata": {
    "colab": {
      "provenance": [],
      "authorship_tag": "ABX9TyN48srGs+ZHkIqQzocukSYD",
      "include_colab_link": true
    },
    "kernelspec": {
      "name": "python3",
      "display_name": "Python 3"
    },
    "language_info": {
      "name": "python"
    }
  },
  "cells": [
    {
      "cell_type": "markdown",
      "metadata": {
        "id": "view-in-github",
        "colab_type": "text"
      },
      "source": [
        "<a href=\"https://colab.research.google.com/github/Ankith7889/Artificial_intelligence_programs/blob/main/Best_first_search.ipynb\" target=\"_parent\"><img src=\"https://colab.research.google.com/assets/colab-badge.svg\" alt=\"Open In Colab\"/></a>"
      ]
    },
    {
      "cell_type": "code",
      "execution_count": 3,
      "metadata": {
        "colab": {
          "base_uri": "https://localhost:8080/"
        },
        "id": "vD1WexDtf9Cb",
        "outputId": "bfb16be0-19f2-4f10-fc36-4f10c5ee1cc9"
      },
      "outputs": [
        {
          "output_type": "stream",
          "name": "stdout",
          "text": [
            "0 1 3 2 8 9 \n"
          ]
        }
      ],
      "source": [
        "#Write a python program to demonstrate Best First Search algorithm\n",
        "\n",
        "from queue import PriorityQueue\n",
        "v = 14\n",
        "graph = [[] for i in range(v)]\n",
        "# Function for implementing best first search gives output path having lowest cost\n",
        "def best_first_search(actual_Src, target, n):\n",
        "  visited = [False] * n\n",
        "  pq = PriorityQueue()\n",
        "  pq.put((0, actual_Src))\n",
        "  visited[actual_Src] = True\n",
        "  while pq.empty() == False:\n",
        "    u = pq.get()[1]\n",
        "    # Displaying the path having lowest cost\n",
        "    print(u, end=\" \")\n",
        "    if u == target:\n",
        "      break\n",
        "    for v, c in graph[u]:\n",
        "      if visited[v] == False:\n",
        "        visited[v] = True\n",
        "        pq.put((c, v))\n",
        "  print()\n",
        "# Function for adding edges to graph\n",
        "def addedge(x, y, cost):\n",
        " graph[x].append((y, cost))\n",
        " graph[y].append((x, cost))\n",
        "# The nodes are implemented using integers addedge(x,y,cost);\n",
        "# S->0, A->1, B->2, C->3, D->4, E->5, F->6, G->7, H->8, I->9, J->10, K->11, L->12, M->13\n",
        "addedge(0, 1, 3)\n",
        "addedge(0, 2, 6)\n",
        "addedge(0, 3, 5)\n",
        "addedge(1, 4, 9)\n",
        "addedge(1, 5, 8)\n",
        "addedge(2, 6, 12)\n",
        "addedge(2, 7, 14)\n",
        "addedge(3, 8, 7)\n",
        "addedge(8, 9, 5)\n",
        "addedge(8, 10, 6)\n",
        "addedge(9, 11, 1)\n",
        "addedge(9, 12, 10)\n",
        "addedge(9, 13, 2)\n",
        "source = 0\n",
        "target = 9\n",
        "best_first_search(source, target, v)\n",
        "\n"
      ]
    },
    {
      "cell_type": "code",
      "source": [],
      "metadata": {
        "id": "WZdkxkY9gNmF"
      },
      "execution_count": null,
      "outputs": []
    }
  ]
}