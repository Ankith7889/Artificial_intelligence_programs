{
  "nbformat": 4,
  "nbformat_minor": 0,
  "metadata": {
    "colab": {
      "provenance": [],
      "authorship_tag": "ABX9TyMSgFcTR2CIQ+AxPFmclG1V",
      "include_colab_link": true
    },
    "kernelspec": {
      "name": "python3",
      "display_name": "Python 3"
    },
    "language_info": {
      "name": "python"
    }
  },
  "cells": [
    {
      "cell_type": "markdown",
      "metadata": {
        "id": "view-in-github",
        "colab_type": "text"
      },
      "source": [
        "<a href=\"https://colab.research.google.com/github/Ankith7889/Artificial_intelligence_programs/blob/main/Travelling_salesman.ipynb\" target=\"_parent\"><img src=\"https://colab.research.google.com/assets/colab-badge.svg\" alt=\"Open In Colab\"/></a>"
      ]
    },
    {
      "cell_type": "code",
      "execution_count": 5,
      "metadata": {
        "colab": {
          "base_uri": "https://localhost:8080/"
        },
        "id": "vD1WexDtf9Cb",
        "outputId": "a9cce0c8-92c5-4cc3-dbeb-8b6144971ba1"
      },
      "outputs": [
        {
          "output_type": "stream",
          "name": "stdout",
          "text": [
            "80\n"
          ]
        }
      ],
      "source": [
        "#python program to implement Travelling salesman problem (TSP) using heuristic approach\n",
        "\n",
        "from sys import maxsize\n",
        "from itertools import permutations\n",
        "V = 4\n",
        "# implementation of traveling Salesman Problem\n",
        "def travellingSalesmanProblem(graph, s):\n",
        "\n",
        "# store all vertex apart from source vertex\n",
        " vertex = []\n",
        " for i in range(V):\n",
        "  if i != s:\n",
        "    vertex.append(i)\n",
        "# store minimum weight Hamiltonian Cycle\n",
        " min_path = maxsize\n",
        " next_permutation=permutations(vertex)\n",
        " for i in next_permutation:\n",
        "# store current Path weight(cost)\n",
        "  current_pathweight = 0\n",
        "# compute current path weight\n",
        "  k = s\n",
        "  for j in i:\n",
        "    current_pathweight += graph[k][j]\n",
        "    k = j\n",
        "  current_pathweight += graph[k][s]\n",
        "# update minimum\n",
        "  min_path = min(min_path, current_pathweight)\n",
        " return min_path\n",
        "# matrix representation of graph\n",
        "graph = [[0, 10, 15, 20], [10, 0, 35, 25],\n",
        " [15, 35, 0, 30], [20, 25, 30, 0]]\n",
        "s = 0\n",
        "print(travellingSalesmanProblem(graph, s))\n"
      ]
    },
    {
      "cell_type": "code",
      "source": [],
      "metadata": {
        "id": "WZdkxkY9gNmF"
      },
      "execution_count": null,
      "outputs": []
    }
  ]
}