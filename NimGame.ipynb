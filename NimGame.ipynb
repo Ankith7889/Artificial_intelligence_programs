{
  "nbformat": 4,
  "nbformat_minor": 0,
  "metadata": {
    "colab": {
      "provenance": [],
      "authorship_tag": "ABX9TyNqPn+ytce/Xd6CBfhJxYey",
      "include_colab_link": true
    },
    "kernelspec": {
      "name": "python3",
      "display_name": "Python 3"
    },
    "language_info": {
      "name": "python"
    }
  },
  "cells": [
    {
      "cell_type": "markdown",
      "metadata": {
        "id": "view-in-github",
        "colab_type": "text"
      },
      "source": [
        "<a href=\"https://colab.research.google.com/github/Ankith7889/Artificial_intelligence_programs/blob/main/NimGame.ipynb\" target=\"_parent\"><img src=\"https://colab.research.google.com/assets/colab-badge.svg\" alt=\"Open In Colab\"/></a>"
      ]
    },
    {
      "cell_type": "code",
      "execution_count": 6,
      "metadata": {
        "colab": {
          "base_uri": "https://localhost:8080/"
        },
        "id": "vD1WexDtf9Cb",
        "outputId": "9123f822-98e2-4900-e2b2-5158a79c9578"
      },
      "outputs": [
        {
          "output_type": "stream",
          "name": "stdout",
          "text": [
            "Nim game!!\n",
            "We are having 12 tokens\n",
            "How many tokens would you like to take? 2\n",
            "You take 2 tokens.\n",
            "10 tokens remaining.\n",
            "\n",
            "Computer takes  2  tokens.\n",
            "8  tokens remaining.\n",
            "\n",
            "How many tokens would you like to take? 1\n",
            "You take 1 tokens.\n",
            "7 tokens remaining.\n",
            "\n",
            "Computer takes  3  tokens.\n",
            "4  tokens remaining.\n",
            "\n",
            "How many tokens would you like to take? 2\n",
            "You take 2 tokens.\n",
            "2 tokens remaining.\n",
            "\n",
            "Computer takes  2  tokens.\n",
            "0  tokens remaining.\n",
            "\n",
            "Computer wins!\n"
          ]
        }
      ],
      "source": [
        "#a python program to implement Nim Game\n",
        "\n",
        "print(\"Nim game!!\\nWe are having 12 tokens\")\n",
        "def getTokens(curTokens):\n",
        " global tokens\n",
        " print(\"How many tokens would you like to take? \", end='')\n",
        " take = int(input())\n",
        " if (take < 1 or take > 3):\n",
        "  print(\"Number must be between 1 and 3.\\n\")\n",
        "  getTokens(curTokens)\n",
        "  return\n",
        " tokens = curTokens - take\n",
        " print('You take',take ,'tokens.')\n",
        " print(tokens ,'tokens remaining.\\n')\n",
        "def compTurn(curTokens):\n",
        " global tokens\n",
        " take = curTokens % 4\n",
        " tokens = curTokens - take\n",
        " print ('Computer takes ',take, ' tokens.')\n",
        " print (tokens,' tokens remaining.\\n')\n",
        "tokens = 12\n",
        "while (tokens > 0):\n",
        " getTokens(tokens)\n",
        " compTurn(tokens)\n",
        "print(\"Computer wins!\")\n"
      ]
    },
    {
      "cell_type": "code",
      "source": [],
      "metadata": {
        "id": "WZdkxkY9gNmF"
      },
      "execution_count": null,
      "outputs": []
    }
  ]
}