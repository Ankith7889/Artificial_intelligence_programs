{
  "nbformat": 4,
  "nbformat_minor": 0,
  "metadata": {
    "colab": {
      "provenance": [],
      "authorship_tag": "ABX9TyN2sX0Wp63QCPjyBi8Yyawy",
      "include_colab_link": true
    },
    "kernelspec": {
      "name": "python3",
      "display_name": "Python 3"
    },
    "language_info": {
      "name": "python"
    }
  },
  "cells": [
    {
      "cell_type": "markdown",
      "metadata": {
        "id": "view-in-github",
        "colab_type": "text"
      },
      "source": [
        "<a href=\"https://colab.research.google.com/github/Ankith7889/Artificial_intelligence_programs/blob/main/Water_jug_problem.ipynb\" target=\"_parent\"><img src=\"https://colab.research.google.com/assets/colab-badge.svg\" alt=\"Open In Colab\"/></a>"
      ]
    },
    {
      "cell_type": "code",
      "execution_count": 4,
      "metadata": {
        "colab": {
          "base_uri": "https://localhost:8080/"
        },
        "id": "Ytmn9LXcVZ9T",
        "outputId": "baaa6644-d9f8-474b-ea32-6caf59ef902d"
      },
      "outputs": [
        {
          "output_type": "stream",
          "name": "stdout",
          "text": [
            "0 0\n",
            "5 0\n",
            "5 3\n",
            "0 3\n",
            "3 0\n",
            "3 3\n",
            "5 1\n",
            "0 1\n",
            "1 0\n",
            "1 3\n",
            "4 0\n"
          ]
        },
        {
          "output_type": "execute_result",
          "data": {
            "text/plain": [
              "True"
            ]
          },
          "metadata": {},
          "execution_count": 4
        }
      ],
      "source": [
        "#Write a python program to implement Water Jug Problem\n",
        "\n",
        "# jug1 and jug2 contain the value for max capacity in respective jugs and aim is the amount of water to be measured.\n",
        "jug1, jug2, aim = 5, 3, 4\n",
        "# Initialize dictionary with default value as false.\n",
        "from collections import defaultdict\n",
        "visited = defaultdict(lambda: False)\n",
        "# Recursive function which prints the intermediate steps to reach the final. solution and return Boolean value\n",
        "# (True if solution is possible, otherwise False).\n",
        "# amt1 and amt2 are the amount of water present in both jugs at a certain point of time.\n",
        "def waterJugSolver(amt1, amt2):\n",
        "  # Checks for our goal and returns true if achieved.\n",
        "  if (amt1 == aim and amt2 == 0) or (amt2 == aim and amt1 == 0):\n",
        "    print(amt1, amt2)\n",
        "    return True\n",
        "\n",
        "  # Checks if we have already visited the combination or not. If not, then it proceeds further.\n",
        "  if visited[(amt1, amt2)] == False:\n",
        "    print(amt1, amt2)\n",
        "# Changes the boolean value of the combination as it is visited.\n",
        "    visited[(amt1, amt2)] = True\n",
        "# Check for all the 6 possibilities and see if a solution is found in any one of them.\n",
        "    return (waterJugSolver(0, amt2) or\n",
        "    waterJugSolver(amt1, 0) or\n",
        "    waterJugSolver(jug1, amt2) or\n",
        "    waterJugSolver(amt1, jug2) or\n",
        "    waterJugSolver(amt1 + min(amt2, (jug1-amt1)), amt2 - min(amt2, (jug1-amt1))) or\n",
        "    waterJugSolver(amt1 - min(amt1, (jug2-amt2)), amt2 + min(amt1, (jug2-amt2))))\n",
        "# Return False if the combination is already visited to avoid repetition otherwise, recursion will enter an infinite loop.\n",
        "  else:\n",
        "    return False\n",
        "  print(\"Steps: \")\n",
        "# Call the function and pass the initial amount of water present in both jugs.\n",
        "waterJugSolver(0, 0)\n"
      ]
    },
    {
      "cell_type": "code",
      "source": [],
      "metadata": {
        "id": "G3M9prq5WlDq"
      },
      "execution_count": null,
      "outputs": []
    }
  ]
}